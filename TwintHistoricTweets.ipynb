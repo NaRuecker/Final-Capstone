{
 "cells": [
  {
   "cell_type": "code",
   "execution_count": null,
   "metadata": {},
   "outputs": [],
   "source": [
    "#https://github.com/twintproject/twint\n",
    "import twint"
   ]
  },
  {
   "cell_type": "code",
   "execution_count": 1,
   "metadata": {},
   "outputs": [],
   "source": [
    "UnhealthyFood=['lemonade','coke','soda','sprite','pepsi','pizza','fries','burger','cheeseburger','cheese','cream','sauce',\n",
    "                   'cupcake','cake','cookie','donut','chips','syrup','candy','fudge','pie','pudding','brownie','all you can eat',\n",
    "                   'frozen yoghurt','chicken nuggets','waffle','pancake']\n",
    "\n",
    "healthyFood=['fruit','vegetable','vegetarian','veggies','vegan','apple','apricot','avocado','banana','blackberries','blueberries',\n",
    "                 'cherry','coconut','cranberry','date','fig','goji','grape','grapefruit','kiwi','lemon','lime','lyche','mango',\n",
    "                 'melon','watermelon','nectarine','orange','papaya','passionfruit','peach',\n",
    "                 'pear','plum','pineapple','pomegranate','raspberry','star fruit','strawberry','cantaloupe','artichoke',\n",
    "                 'asparagus','beans','legumes','broccoli','brussels sprouts','cabbage','cauliflower','celery','endives','fennel',\n",
    "                 'kale','spinach','lettuce','salad','mushrooms','okra','garlic','chives','beetroot','beets','ginger','radish',\n",
    "                 'squash','tomato']"
   ]
  },
  {
   "cell_type": "code",
   "execution_count": null,
   "metadata": {},
   "outputs": [],
   "source": [
    "years=['2013','2014','2015','2016']"
   ]
  },
  {
   "cell_type": "code",
   "execution_count": null,
   "metadata": {},
   "outputs": [],
   "source": [
    "for query in healthyFood:\n",
    "    for year in years:\n",
    "   \n",
    "        since=year+\"-03-01\"\n",
    "        until=year+\"-03-30\"\n",
    "        search_str=query\n",
    "\n",
    "        c = twint.Config()\n",
    "        c.Search=search_str\n",
    "        c.Since=since\n",
    "        c.Until=until\n",
    "        c.Lang='en'\n",
    "        c.Store_csv = True\n",
    "        c.Custom[\"id\"] = [\"location\",\"place\", \"user_id\", \"username\", \"tweet\"]\n",
    "        c.Limit=2000\n",
    "        c.Output = \"HealthyFood_\"+search_str+'_'+since+'.csv'\n",
    "        twint.run.Search(c)"
   ]
  },
  {
   "cell_type": "code",
   "execution_count": null,
   "metadata": {},
   "outputs": [],
   "source": [
    "for query in unhealthyFood:\n",
    "    for year in years:\n",
    "        print(query)\n",
    "        print(year)\n",
    "   \n",
    "        since=year+\"-03-01\"\n",
    "        until=year+\"-03-30\"\n",
    "        search_str=query\n",
    "\n",
    "        c = twint.Config()\n",
    "        c.Search=search_str\n",
    "        c.Since=since\n",
    "        c.Until=until\n",
    "        c.Lang='en'\n",
    "        c.Store_csv = True\n",
    "        c.Custom[\"id\"] = [\"location\",\"place\", \"user_id\", \"username\", \"tweet\"]\n",
    "        c.Limit=2000\n",
    "        c.Output = \"UnhealthyFood_\"+search_str+'_'+since+'.csv'\n",
    "        twint.run.Search(c)"
   ]
  }
 ],
 "metadata": {
  "kernelspec": {
   "display_name": "Python 3",
   "language": "python",
   "name": "python3"
  },
  "language_info": {
   "codemirror_mode": {
    "name": "ipython",
    "version": 3
   },
   "file_extension": ".py",
   "mimetype": "text/x-python",
   "name": "python",
   "nbconvert_exporter": "python",
   "pygments_lexer": "ipython3",
   "version": "3.6.5"
  },
  "toc": {
   "base_numbering": 1,
   "nav_menu": {},
   "number_sections": true,
   "sideBar": true,
   "skip_h1_title": false,
   "title_cell": "Table of Contents",
   "title_sidebar": "Contents",
   "toc_cell": false,
   "toc_position": {},
   "toc_section_display": true,
   "toc_window_display": false
  },
  "varInspector": {
   "cols": {
    "lenName": 16,
    "lenType": 16,
    "lenVar": 40
   },
   "kernels_config": {
    "python": {
     "delete_cmd_postfix": "",
     "delete_cmd_prefix": "del ",
     "library": "var_list.py",
     "varRefreshCmd": "print(var_dic_list())"
    },
    "r": {
     "delete_cmd_postfix": ") ",
     "delete_cmd_prefix": "rm(",
     "library": "var_list.r",
     "varRefreshCmd": "cat(var_dic_list()) "
    }
   },
   "types_to_exclude": [
    "module",
    "function",
    "builtin_function_or_method",
    "instance",
    "_Feature"
   ],
   "window_display": false
  }
 },
 "nbformat": 4,
 "nbformat_minor": 2
}
